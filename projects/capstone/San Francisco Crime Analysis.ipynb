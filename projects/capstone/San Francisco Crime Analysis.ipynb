{
 "cells": [
  {
   "cell_type": "code",
   "execution_count": 75,
   "metadata": {
    "collapsed": false
   },
   "outputs": [],
   "source": [
    "# first, import all the libs we need\n",
    "import pandas as pd\n",
    "import matplotlib.pyplot as plt\n",
    "import folium\n",
    "from folium import plugins\n",
    "\n",
    "df = pd.read_csv(\"crimes.csv\")"
   ]
  },
  {
   "cell_type": "markdown",
   "metadata": {},
   "source": [
    "# Crime Categories\n",
    "\n",
    "We are not interested in using all the data because there are certain types of crimes that are irrelevant to immediate danger to another person. The crime alert should only notify a citizen nearby when he could be physically hurt.\n",
    "\n",
    "We are going to check the crime categories and filter out the ones that are not useful to us. Below are the crime categories."
   ]
  },
  {
   "cell_type": "code",
   "execution_count": 62,
   "metadata": {
    "collapsed": false
   },
   "outputs": [
    {
     "name": "stdout",
     "output_type": "stream",
     "text": [
      "WARRANTS\n",
      "OTHER OFFENSES\n",
      "LARCENY/THEFT\n",
      "VEHICLE THEFT\n",
      "VANDALISM\n",
      "NON-CRIMINAL\n",
      "ROBBERY\n",
      "ASSAULT\n",
      "WEAPON LAWS\n",
      "BURGLARY\n",
      "SUSPICIOUS OCC\n",
      "DRUNKENNESS\n",
      "FORGERY/COUNTERFEITING\n",
      "DRUG/NARCOTIC\n",
      "STOLEN PROPERTY\n",
      "SECONDARY CODES\n",
      "TRESPASS\n",
      "MISSING PERSON\n",
      "FRAUD\n",
      "KIDNAPPING\n",
      "RUNAWAY\n",
      "DRIVING UNDER THE INFLUENCE\n",
      "SEX OFFENSES FORCIBLE\n",
      "PROSTITUTION\n",
      "DISORDERLY CONDUCT\n",
      "ARSON\n",
      "FAMILY OFFENSES\n",
      "LIQUOR LAWS\n",
      "BRIBERY\n",
      "EMBEZZLEMENT\n",
      "SUICIDE\n",
      "LOITERING\n",
      "SEX OFFENSES NON FORCIBLE\n",
      "EXTORTION\n",
      "GAMBLING\n",
      "BAD CHECKS\n",
      "TREA\n",
      "RECOVERED VEHICLE\n",
      "PORNOGRAPHY/OBSCENE MAT\n"
     ]
    }
   ],
   "source": [
    "for c in df.Category.unique():\n",
    "    print c"
   ]
  },
  {
   "cell_type": "code",
   "execution_count": 69,
   "metadata": {
    "collapsed": true
   },
   "outputs": [],
   "source": [
    "# These are the (what I believe to be) relevant crime categories:\n",
    "relevant_categories = [\n",
    "  \"LARCENY/THEFT\",\n",
    "  \"VEHICLE THEFT\",\n",
    "  \"ROBBERY\",\n",
    "  \"ASSAULT\",\n",
    "  \"WEAPON LAWS\",\n",
    "  \"BURGLARY\",\n",
    "  \"DRUNKENNESS\",\n",
    "  \"DRUG/NARCOTIC\",\n",
    "  \"KIDNAPPING\",\n",
    "  \"DRIVING UNDER THE INFLUENCE\",\n",
    "  \"SEX OFFENSES FORCIBLE\",\n",
    "  \"ARSON\",\n",
    "  \"SEX OFFENSES NON FORCIBLE\",\n",
    "  \"EXTORTION\"\n",
    "]"
   ]
  },
  {
   "cell_type": "code",
   "execution_count": 72,
   "metadata": {
    "collapsed": false
   },
   "outputs": [
    {
     "name": "stdout",
     "output_type": "stream",
     "text": [
      "188866\n"
     ]
    }
   ],
   "source": [
    "df = df[df.Category.isin(relevant_categories)]\n",
    "print len(df)"
   ]
  },
  {
   "cell_type": "markdown",
   "metadata": {},
   "source": [
    "# Time Relevance\n",
    "\n",
    "Crimes that happened a long time ago are less relevant because the police might have taken measures to solve the problem or the people who committed crimes at these places are no longer around for various reasons).\n",
    "\n",
    "I am going to include only the crimes that happened between 2010 and 2015."
   ]
  },
  {
   "cell_type": "markdown",
   "metadata": {},
   "source": [
    "# Neighborhoods\n",
    "\n",
    "Let's take a look at where the crimes happened. This will be the part of the first crime alert component. The first component tells citizens where they should avoid by showing them the neighborhoods that have serious problems with crime."
   ]
  },
  {
   "cell_type": "code",
   "execution_count": 73,
   "metadata": {
    "collapsed": false
   },
   "outputs": [
    {
     "data": {
      "text/plain": [
       "PdDistrict            \n",
       "SOUTHERN    SOUTHERN      37299\n",
       "NORTHERN    NORTHERN      24446\n",
       "MISSION     MISSION       23856\n",
       "CENTRAL     CENTRAL       20915\n",
       "BAYVIEW     BAYVIEW       17009\n",
       "INGLESIDE   INGLESIDE     16364\n",
       "TENDERLOIN  TENDERLOIN    15854\n",
       "TARAVAL     TARAVAL       12857\n",
       "PARK        PARK          10270\n",
       "RICHMOND    RICHMOND       9996\n",
       "dtype: int64"
      ]
     },
     "execution_count": 73,
     "metadata": {},
     "output_type": "execute_result"
    }
   ],
   "source": [
    "neighborhoods = df.PdDistrict.unique()\n",
    "df.groupby(\"PdDistrict\").PdDistrict.value_counts().nlargest(len(neighborhoods))"
   ]
  },
  {
   "cell_type": "markdown",
   "metadata": {},
   "source": [
    "Much to my surprise, Tenderloin is not even close to the top of the list. It has an important implication. We cannot just take what people say about certain neighborhoods and we should look at facts. Now let's look at the crime distribution by coordinates."
   ]
  },
  {
   "cell_type": "code",
   "execution_count": 80,
   "metadata": {
    "collapsed": false
   },
   "outputs": [],
   "source": [
    "map_osm = folium.Map(location=[37.7749, -122.4194], zoom_start=12)\n",
    "\n",
    "lats = df.X\n",
    "lngs = df.Y\n",
    "map_osm.add_children(plugins.HeatMap(zip(lngs, lats), radius = 10))\n",
    "\n",
    "# clusters = [folium.MarkerCluster()] * len(neighborhoods)\n",
    "\n",
    "# for _, row in df.tail(1000).iterrows():\n",
    "#     popup_text = \"{}: {}\".format(row.Category, row.Descript)\n",
    "#     marker = folium.Marker(\n",
    "#         location=[row.Y, row.X],\n",
    "#         popup=popup_text\n",
    "#     )\n",
    "#     cluster = list(neighborhoods).index(row.PdDistrict)\n",
    "#     marker.add_to(clusters[cluster])\n",
    "                                     \n",
    "# [map_osm.add_children(cluster) for cluster in clusters]\n",
    "\n",
    "map_osm.save(\"osm.html\")"
   ]
  },
  {
   "cell_type": "code",
   "execution_count": null,
   "metadata": {
    "collapsed": true
   },
   "outputs": [],
   "source": []
  }
 ],
 "metadata": {
  "kernelspec": {
   "display_name": "Python 2",
   "language": "python",
   "name": "python2"
  },
  "language_info": {
   "codemirror_mode": {
    "name": "ipython",
    "version": 2
   },
   "file_extension": ".py",
   "mimetype": "text/x-python",
   "name": "python",
   "nbconvert_exporter": "python",
   "pygments_lexer": "ipython2",
   "version": "2.7.11"
  }
 },
 "nbformat": 4,
 "nbformat_minor": 0
}
